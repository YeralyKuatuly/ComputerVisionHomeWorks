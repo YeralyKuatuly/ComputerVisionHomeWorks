{
 "cells": [
  {
   "cell_type": "code",
   "execution_count": 1,
   "id": "2ca3581f-8681-4501-ad46-d0dbd8a86a94",
   "metadata": {},
   "outputs": [],
   "source": [
    "import cv2\n",
    "import numpy as np"
   ]
  },
  {
   "cell_type": "code",
   "execution_count": 2,
   "id": "569ea8ac-6e79-4399-9b95-9822b11283a4",
   "metadata": {},
   "outputs": [],
   "source": [
    "WIDTH = 600\n",
    "HEIGHT = 600"
   ]
  },
  {
   "cell_type": "code",
   "execution_count": 3,
   "id": "98f71f64-6a1f-4f3d-92d7-4d3b062b28e8",
   "metadata": {},
   "outputs": [
    {
     "name": "stderr",
     "output_type": "stream",
     "text": [
      "Warning: Ignoring XDG_SESSION_TYPE=wayland on Gnome. Use QT_QPA_PLATFORM=wayland to run on Wayland anyway.\n"
     ]
    }
   ],
   "source": [
    "drawing = False\n",
    "ix, iy = -1, -1\n",
    "\n",
    "def draw_circle(event, x, y, flags, param):\n",
    "    global ix, iy, drawing\n",
    "\n",
    "    if event == cv2.EVENT_LBUTTONDOWN:\n",
    "        drawing = True\n",
    "        ix, iy = x, y\n",
    "        cv2.circle(img, (x, y), radius, color, -1)\n",
    "\n",
    "    elif event == cv2.EVENT_MOUSEMOVE:\n",
    "        if drawing:\n",
    "            cv2.circle(img, (x, y), radius, color, -1)\n",
    "\n",
    "    elif event == cv2.EVENT_LBUTTONUP:\n",
    "        drawing = False\n",
    "\n",
    "img = 255 * np.ones((HEIGHT, WIDTH, 3), np.uint8)\n",
    "\n",
    "cv2.namedWindow('Paint')\n",
    "cv2.setMouseCallback('Paint', draw_circle)\n",
    "\n",
    "cv2.createTrackbar('Red', 'Paint', 0, 255, lambda x: None)\n",
    "cv2.createTrackbar('Green', 'Paint', 0, 255, lambda x: None)\n",
    "cv2.createTrackbar('Blue', 'Paint', 0, 255, lambda x: None)\n",
    "cv2.createTrackbar('Radius', 'Paint', 1, 50, lambda x: None)\n",
    "\n",
    "while True:\n",
    "    cv2.imshow('Paint', img)\n",
    "\n",
    "    red = cv2.getTrackbarPos('Red', 'Paint')\n",
    "    green = cv2.getTrackbarPos('Green', 'Paint')\n",
    "    blue = cv2.getTrackbarPos('Blue', 'Paint')\n",
    "    radius = cv2.getTrackbarPos('Radius', 'Paint')\n",
    "\n",
    "    color = (blue, green, red)\n",
    "\n",
    "    k = cv2.waitKey(1) & 0xFF\n",
    "    if k == 27:  # ESC key to exit\n",
    "        break\n",
    "\n",
    "cv2.destroyAllWindows()\n"
   ]
  },
  {
   "cell_type": "code",
   "execution_count": null,
   "id": "e66b951d-934e-468f-9e25-5f9f7dad3b81",
   "metadata": {},
   "outputs": [],
   "source": []
  }
 ],
 "metadata": {
  "kernelspec": {
   "display_name": "Python 3 (ipykernel)",
   "language": "python",
   "name": "python3"
  },
  "language_info": {
   "codemirror_mode": {
    "name": "ipython",
    "version": 3
   },
   "file_extension": ".py",
   "mimetype": "text/x-python",
   "name": "python",
   "nbconvert_exporter": "python",
   "pygments_lexer": "ipython3",
   "version": "3.10.12"
  }
 },
 "nbformat": 4,
 "nbformat_minor": 5
}

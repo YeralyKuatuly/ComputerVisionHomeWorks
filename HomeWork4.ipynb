{
 "cells": [
  {
   "cell_type": "code",
   "execution_count": 1,
   "id": "daba2ae6-7107-48f3-9c62-3c2da20b2621",
   "metadata": {},
   "outputs": [],
   "source": [
    "import cv2\n",
    "import numpy as np"
   ]
  },
  {
   "cell_type": "code",
   "execution_count": 15,
   "id": "690f9742-780c-4421-955f-0700f255c3d8",
   "metadata": {},
   "outputs": [],
   "source": [
    "color = [0, 0, 0]\n",
    "\n",
    "def set_color_radius(x):\n",
    "    global color, radius\n",
    "    color = (cv2.getTrackbarPos('Blue', 'Paint'),\n",
    "             cv2.getTrackbarPos('Green', 'Paint'),\n",
    "             cv2.getTrackbarPos('Red', 'Paint'))\n",
    "\n",
    "background_img = cv2.imread('MESSI.jpg')\n",
    "background_img = cv2.resize(background_img, (332, 498))\n",
    "\n",
    "cv2.namedWindow('Paint')\n",
    "\n",
    "cv2.createTrackbar('Blue', 'Paint', 0, 255, set_color_radius)\n",
    "cv2.createTrackbar('Green', 'Paint', 0, 255, set_color_radius)\n",
    "cv2.createTrackbar('Red', 'Paint', 0, 255, set_color_radius)\n",
    "\n",
    "while True:\n",
    "    filtered_img = np.clip(background_img + np.array(color), 0, 255).astype(np.uint8)\n",
    "\n",
    "    cv2.imshow('Paint', filtered_img)\n",
    "\n",
    "    key = cv2.waitKey(1)\n",
    "    if key & 0xFF == 27:\n",
    "        break\n",
    "\n",
    "cv2.destroyAllWindows()"
   ]
  },
  {
   "cell_type": "code",
   "execution_count": null,
   "id": "f260eb19-060c-456c-840a-7a8ee6b8d897",
   "metadata": {},
   "outputs": [],
   "source": []
  }
 ],
 "metadata": {
  "kernelspec": {
   "display_name": "Python 3 (ipykernel)",
   "language": "python",
   "name": "python3"
  },
  "language_info": {
   "codemirror_mode": {
    "name": "ipython",
    "version": 3
   },
   "file_extension": ".py",
   "mimetype": "text/x-python",
   "name": "python",
   "nbconvert_exporter": "python",
   "pygments_lexer": "ipython3",
   "version": "3.10.12"
  }
 },
 "nbformat": 4,
 "nbformat_minor": 5
}
